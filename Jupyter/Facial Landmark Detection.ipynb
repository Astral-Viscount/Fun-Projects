{
 "cells": [
  {
   "cell_type": "code",
   "execution_count": 9,
   "id": "4af809bc-0327-4802-8ab3-102f048e69d0",
   "metadata": {},
   "outputs": [],
   "source": [
    "import cv2\n",
    "import mediapipe as mp"
   ]
  },
  {
   "cell_type": "code",
   "execution_count": 10,
   "id": "dbc51921-8c5c-4485-b384-b7753decbfdf",
   "metadata": {},
   "outputs": [],
   "source": [
    "drawing = mp.solutions.drawing_utils\n",
    "style = mp.solutions.drawing_styles\n",
    "\n",
    "specs = drawing.DrawingSpec(color = (0, 255, 0), thickness = 1)"
   ]
  },
  {
   "cell_type": "code",
   "execution_count": 11,
   "id": "188d64d4-27b4-485b-aa1e-b9c9d6643258",
   "metadata": {},
   "outputs": [],
   "source": [
    "webcam = cv2.VideoCapture(0)\n",
    "\n",
    "facemesh = mp.solutions.face_mesh\n",
    "\n",
    "with facemesh.FaceMesh(\n",
    "        max_num_faces = 1,\n",
    "        refine_landmarks = True,\n",
    "        min_detection_confidence = 0.5,\n",
    "        min_tracking_confidence = 0.5\n",
    "    ) as face_mesh:\n",
    "\n",
    "    while webcam.isOpened():\n",
    "        success, frame = webcam.read()\n",
    "        \n",
    "        if not success:\n",
    "                    break\n",
    "        results = face_mesh.process(frame)\n",
    "\n",
    "        face_landmarks = results.multi_face_landmarks\n",
    "        \n",
    "        if face_landmarks:\n",
    "            for result in face_landmarks:\n",
    "                drawing.draw_landmarks(\n",
    "                    image = frame,\n",
    "                    landmark_list = result,\n",
    "                    connections = facemesh.FACEMESH_TESSELATION,\n",
    "                    landmark_drawing_spec = None,\n",
    "                    connection_drawing_spec = style\n",
    "                    .get_default_face_mesh_tesselation_style()\n",
    "                )\n",
    "\n",
    "                drawing.draw_landmarks(\n",
    "                    image = frame,\n",
    "                    landmark_list = result,\n",
    "                    connections = facemesh.FACEMESH_CONTOURS,\n",
    "                    landmark_drawing_spec = None,\n",
    "                    connection_drawing_spec = specs\n",
    "                    # .get_default_face_mesh_contours_style()\n",
    "                )\n",
    "\n",
    "        cv2.imshow(\"Facial Recognition\", cv2.flip(frame, 1))\n",
    "    \n",
    "        if cv2.waitKey(10) == ord('q'):\n",
    "            break\n",
    "\n",
    "webcam.release()\n",
    "cv2.destroyAllWindows()"
   ]
  }
 ],
 "metadata": {
  "kernelspec": {
   "display_name": "Python 3 (ipykernel)",
   "language": "python",
   "name": "python3"
  },
  "language_info": {
   "codemirror_mode": {
    "name": "ipython",
    "version": 3
   },
   "file_extension": ".py",
   "mimetype": "text/x-python",
   "name": "python",
   "nbconvert_exporter": "python",
   "pygments_lexer": "ipython3",
   "version": "3.12.5"
  }
 },
 "nbformat": 4,
 "nbformat_minor": 5
}
